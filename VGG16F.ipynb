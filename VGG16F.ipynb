{
 "cells": [
  {
   "cell_type": "code",
   "execution_count": 1,
   "metadata": {},
   "outputs": [
    {
     "name": "stderr",
     "output_type": "stream",
     "text": [
      "Using TensorFlow backend.\n"
     ]
    }
   ],
   "source": [
    "from keras.applications import VGG16\n",
    "\n",
    "# VGG16 was designed to work on 224 x 224 pixel input images sizes\n",
    "img_rows = 224\n",
    "img_cols = 224 \n",
    "\n",
    "#Loads the VGG16 model \n",
    "model = VGG16(weights = 'imagenet', \n",
    "                 include_top = False, \n",
    "                 input_shape = (img_rows, img_cols, 3))"
   ]
  },
  {
   "cell_type": "code",
   "execution_count": 2,
   "metadata": {},
   "outputs": [
    {
     "name": "stdout",
     "output_type": "stream",
     "text": [
      "0 InputLayer\t False\n",
      "1 Conv2D\t True\n",
      "2 Conv2D\t True\n",
      "3 MaxPooling2D\t True\n",
      "4 Conv2D\t True\n",
      "5 Conv2D\t True\n",
      "6 MaxPooling2D\t True\n",
      "7 Conv2D\t True\n",
      "8 Conv2D\t True\n",
      "9 Conv2D\t True\n",
      "10 MaxPooling2D\t True\n",
      "11 Conv2D\t True\n",
      "12 Conv2D\t True\n",
      "13 Conv2D\t True\n",
      "14 MaxPooling2D\t True\n",
      "15 Conv2D\t True\n",
      "16 Conv2D\t True\n",
      "17 Conv2D\t True\n",
      "18 MaxPooling2D\t True\n"
     ]
    }
   ],
   "source": [
    "# Let's print our layers \n",
    "for (i,layer) in enumerate(model.layers):\n",
    "    print(str(i) + \" \" + layer.__class__.__name__ + \"\\t\" ,layer.trainable)"
   ]
  },
  {
   "cell_type": "code",
   "execution_count": 3,
   "metadata": {},
   "outputs": [
    {
     "name": "stdout",
     "output_type": "stream",
     "text": [
      "0 InputLayer\t False\n",
      "1 Conv2D\t False\n",
      "2 Conv2D\t False\n",
      "3 MaxPooling2D\t False\n",
      "4 Conv2D\t False\n",
      "5 Conv2D\t False\n",
      "6 MaxPooling2D\t False\n",
      "7 Conv2D\t False\n",
      "8 Conv2D\t False\n",
      "9 Conv2D\t False\n",
      "10 MaxPooling2D\t False\n",
      "11 Conv2D\t False\n",
      "12 Conv2D\t False\n",
      "13 Conv2D\t False\n",
      "14 MaxPooling2D\t False\n",
      "15 Conv2D\t False\n",
      "16 Conv2D\t False\n",
      "17 Conv2D\t False\n",
      "18 MaxPooling2D\t False\n"
     ]
    }
   ],
   "source": [
    "for layer in model.layers:\n",
    "    layer.trainable = False\n",
    "# Let's print our layers \n",
    "for (i,layer) in enumerate(model.layers):\n",
    "    print(str(i) + \" \" + layer.__class__.__name__ + \"\\t\" ,layer.trainable)"
   ]
  },
  {
   "cell_type": "markdown",
   "metadata": {},
   "source": [
    "# joining Top and Bottom of models"
   ]
  },
  {
   "cell_type": "code",
   "execution_count": 4,
   "metadata": {},
   "outputs": [],
   "source": [
    "def addTopModel(bottom_model, num_classes, D=256):\n",
    "    \"\"\"creates the top or head of the model that will be \n",
    "    placed ontop of the bottom layers\"\"\"\n",
    "    top_model = bottom_model.output\n",
    "    top_model = Flatten(name = \"flatten\")(top_model)\n",
    "    top_model = Dense(D, activation = \"relu\")(top_model)\n",
    "    top_model = Dropout(0.3)(top_model)\n",
    "    top_model = Dense(num_classes, activation = \"softmax\")(top_model)\n",
    "    return top_model"
   ]
  },
  {
   "cell_type": "code",
   "execution_count": 5,
   "metadata": {},
   "outputs": [
    {
     "data": {
      "text/plain": [
       "<tf.Tensor 'input_1:0' shape=(None, 224, 224, 3) dtype=float32>"
      ]
     },
     "execution_count": 5,
     "metadata": {},
     "output_type": "execute_result"
    }
   ],
   "source": [
    "model.input"
   ]
  },
  {
   "cell_type": "code",
   "execution_count": 6,
   "metadata": {},
   "outputs": [],
   "source": [
    "from keras.models import Sequential\n",
    "from keras.layers import Dense, Dropout, Activation, Flatten\n",
    "from keras.layers import Conv2D, MaxPooling2D, ZeroPadding2D\n",
    "from keras.layers.normalization import BatchNormalization\n",
    "from keras.models import Model\n",
    "\n",
    "num_classes = 3\n",
    "FC_Head = addTopModel(model, num_classes)\n",
    "modelnew = Model(inputs=model.input, outputs=FC_Head)"
   ]
  },
  {
   "cell_type": "code",
   "execution_count": 7,
   "metadata": {},
   "outputs": [
    {
     "name": "stdout",
     "output_type": "stream",
     "text": [
      "Model: \"model_1\"\n",
      "_________________________________________________________________\n",
      "Layer (type)                 Output Shape              Param #   \n",
      "=================================================================\n",
      "input_1 (InputLayer)         (None, 224, 224, 3)       0         \n",
      "_________________________________________________________________\n",
      "block1_conv1 (Conv2D)        (None, 224, 224, 64)      1792      \n",
      "_________________________________________________________________\n",
      "block1_conv2 (Conv2D)        (None, 224, 224, 64)      36928     \n",
      "_________________________________________________________________\n",
      "block1_pool (MaxPooling2D)   (None, 112, 112, 64)      0         \n",
      "_________________________________________________________________\n",
      "block2_conv1 (Conv2D)        (None, 112, 112, 128)     73856     \n",
      "_________________________________________________________________\n",
      "block2_conv2 (Conv2D)        (None, 112, 112, 128)     147584    \n",
      "_________________________________________________________________\n",
      "block2_pool (MaxPooling2D)   (None, 56, 56, 128)       0         \n",
      "_________________________________________________________________\n",
      "block3_conv1 (Conv2D)        (None, 56, 56, 256)       295168    \n",
      "_________________________________________________________________\n",
      "block3_conv2 (Conv2D)        (None, 56, 56, 256)       590080    \n",
      "_________________________________________________________________\n",
      "block3_conv3 (Conv2D)        (None, 56, 56, 256)       590080    \n",
      "_________________________________________________________________\n",
      "block3_pool (MaxPooling2D)   (None, 28, 28, 256)       0         \n",
      "_________________________________________________________________\n",
      "block4_conv1 (Conv2D)        (None, 28, 28, 512)       1180160   \n",
      "_________________________________________________________________\n",
      "block4_conv2 (Conv2D)        (None, 28, 28, 512)       2359808   \n",
      "_________________________________________________________________\n",
      "block4_conv3 (Conv2D)        (None, 28, 28, 512)       2359808   \n",
      "_________________________________________________________________\n",
      "block4_pool (MaxPooling2D)   (None, 14, 14, 512)       0         \n",
      "_________________________________________________________________\n",
      "block5_conv1 (Conv2D)        (None, 14, 14, 512)       2359808   \n",
      "_________________________________________________________________\n",
      "block5_conv2 (Conv2D)        (None, 14, 14, 512)       2359808   \n",
      "_________________________________________________________________\n",
      "block5_conv3 (Conv2D)        (None, 14, 14, 512)       2359808   \n",
      "_________________________________________________________________\n",
      "block5_pool (MaxPooling2D)   (None, 7, 7, 512)         0         \n",
      "_________________________________________________________________\n",
      "flatten (Flatten)            (None, 25088)             0         \n",
      "_________________________________________________________________\n",
      "dense_1 (Dense)              (None, 256)               6422784   \n",
      "_________________________________________________________________\n",
      "dropout_1 (Dropout)          (None, 256)               0         \n",
      "_________________________________________________________________\n",
      "dense_2 (Dense)              (None, 3)                 771       \n",
      "=================================================================\n",
      "Total params: 21,138,243\n",
      "Trainable params: 6,423,555\n",
      "Non-trainable params: 14,714,688\n",
      "_________________________________________________________________\n",
      "None\n"
     ]
    }
   ],
   "source": [
    "print(modelnew.summary())"
   ]
  },
  {
   "cell_type": "code",
   "execution_count": 8,
   "metadata": {},
   "outputs": [],
   "source": [
    "from keras.preprocessing.image import ImageDataGenerator"
   ]
  },
  {
   "cell_type": "code",
   "execution_count": 9,
   "metadata": {},
   "outputs": [],
   "source": [
    "#I haven't done data augmentation here because I already created images using a my own augmentation script\n",
    "# It has variety of options if ypou want to check I have addded with this Python File"
   ]
  },
  {
   "cell_type": "code",
   "execution_count": 10,
   "metadata": {},
   "outputs": [
    {
     "name": "stdout",
     "output_type": "stream",
     "text": [
      "Found 916 images belonging to 3 classes.\n",
      "Found 106 images belonging to 3 classes.\n"
     ]
    }
   ],
   "source": [
    "trdata = ImageDataGenerator()\n",
    "traindata = trdata.flow_from_directory(directory=\"/root/mlopsproject/UntitledFolder/Traning2/\",target_size=(224,224))\n",
    "tsdata = ImageDataGenerator()\n",
    "testdata = tsdata.flow_from_directory(directory=\"/root/mlopsproject/UntitledFolder/Validation2/\", target_size=(224,224))"
   ]
  },
  {
   "cell_type": "code",
   "execution_count": 11,
   "metadata": {},
   "outputs": [],
   "source": [
    "from keras.optimizers import RMSprop\n",
    "from keras.callbacks import ModelCheckpoint, EarlyStopping"
   ]
  },
  {
   "cell_type": "code",
   "execution_count": 12,
   "metadata": {},
   "outputs": [
    {
     "name": "stdout",
     "output_type": "stream",
     "text": [
      "Epoch 1/6\n",
      "13/13 [==============================] - 190s 15s/step - loss: 52.5511 - accuracy: 0.5529 - val_loss: 22.7194 - val_accuracy: 0.5771\n",
      "\n",
      "Epoch 00001: val_loss improved from inf to 22.71938, saving model to friends_vgg.h5\n",
      "Epoch 2/6\n",
      "13/13 [==============================] - 184s 14s/step - loss: 11.3474 - accuracy: 0.7284 - val_loss: 12.9170 - val_accuracy: 0.6543\n",
      "\n",
      "Epoch 00002: val_loss improved from 22.71938 to 12.91702, saving model to friends_vgg.h5\n",
      "Epoch 3/6\n",
      "13/13 [==============================] - 179s 14s/step - loss: 2.7683 - accuracy: 0.8418 - val_loss: 11.3336 - val_accuracy: 0.5714\n",
      "\n",
      "Epoch 00003: val_loss improved from 12.91702 to 11.33361, saving model to friends_vgg.h5\n",
      "Epoch 4/6\n",
      "13/13 [==============================] - 180s 14s/step - loss: 2.6902 - accuracy: 0.8341 - val_loss: 0.1438 - val_accuracy: 0.8963\n",
      "\n",
      "Epoch 00004: val_loss improved from 11.33361 to 0.14382, saving model to friends_vgg.h5\n",
      "Epoch 5/6\n",
      "13/13 [==============================] - 200s 15s/step - loss: 0.4761 - accuracy: 0.9279 - val_loss: 0.9026 - val_accuracy: 0.8629\n",
      "\n",
      "Epoch 00005: val_loss did not improve from 0.14382\n",
      "Epoch 6/6\n",
      "13/13 [==============================] - 189s 15s/step - loss: 0.5630 - accuracy: 0.9375 - val_loss: 4.1794 - val_accuracy: 0.7343\n",
      "\n",
      "Epoch 00006: val_loss did not improve from 0.14382\n"
     ]
    }
   ],
   "source": [
    "checkpoint = ModelCheckpoint(\"friends_vgg.h5\",\n",
    "                             monitor=\"val_loss\",\n",
    "                             mode=\"min\",\n",
    "                             save_best_only = True,\n",
    "                             verbose=1)\n",
    "\n",
    "earlystop = EarlyStopping(monitor = 'val_loss', \n",
    "                          min_delta = 0, \n",
    "                          patience = 4,\n",
    "                          verbose = 1,\n",
    "                          restore_best_weights = False)\n",
    "\n",
    "# we put our call backs into a callback list\n",
    "callbacks = [earlystop, checkpoint]\n",
    "\n",
    "# Note we use a very small learning rate \n",
    "modelnew.compile(loss = 'categorical_crossentropy',\n",
    "              optimizer = RMSprop(lr = 0.001),\n",
    "              metrics = ['accuracy'])\n",
    "\n",
    "nb_train_samples = 916\n",
    "nb_validation_samples = 106\n",
    "epochs = 6\n",
    "batch_size = 8\n",
    "\n",
    "history = modelnew.fit_generator(\n",
    "    traindata,\n",
    "    steps_per_epoch = nb_validation_samples // batch_size,\n",
    "    epochs = epochs,\n",
    "    callbacks = callbacks,\n",
    "    validation_data = testdata,\n",
    "    validation_steps = nb_validation_samples // batch_size\n",
    ")\n",
    "\n",
    "modelnew.save(\"friends_vgg16f.h5\")"
   ]
  },
  {
   "cell_type": "code",
   "execution_count": 13,
   "metadata": {},
   "outputs": [
    {
     "data": {
      "text/plain": [
       "{'Akshansh': 0, 'Aman': 1, 'Ritesh': 2}"
      ]
     },
     "execution_count": 13,
     "metadata": {},
     "output_type": "execute_result"
    }
   ],
   "source": [
    "traindata.class_indices"
   ]
  },
  {
   "cell_type": "code",
   "execution_count": 15,
   "metadata": {},
   "outputs": [
    {
     "name": "stdout",
     "output_type": "stream",
     "text": [
      "Class - Aman\n",
      "Class - Aman\n",
      "Class - Akshansh\n",
      "Class - Akshansh\n",
      "Class - Akshansh\n",
      "Class - Aman\n",
      "Class - Akshansh\n",
      "Class - Ritesh\n",
      "Class - Akshansh\n",
      "Class - Akshansh\n",
      "Class - Akshansh\n",
      "Class - Ritesh\n",
      "Class - Ritesh\n",
      "Class - Ritesh\n",
      "Class - Aman\n",
      "Class - Aman\n",
      "Class - Aman\n",
      "Class - Akshansh\n",
      "Class - Akshansh\n",
      "Class - Ritesh\n"
     ]
    }
   ],
   "source": [
    "import os\n",
    "import cv2\n",
    "import numpy as np\n",
    "from os import listdir\n",
    "from os.path import isfile, join\n",
    "\n",
    "\n",
    "singers_dict = { \n",
    "    0:'Akshansh',\n",
    "    1:'Aman',\n",
    "    2:'Ritesh',\n",
    "}\n",
    "\n",
    "\n",
    "def draw_test(name, pred, im):\n",
    "    singer = singers_dict[pred]\n",
    "    BLACK = [0,0,0]\n",
    "    expanded_image = cv2.copyMakeBorder(im, 80, 0, 0, 100 ,cv2.BORDER_CONSTANT,value=BLACK)\n",
    "    cv2.putText(expanded_image, singer, (20, 60) , cv2.FONT_HERSHEY_SIMPLEX,1, (0,0,255), 2)\n",
    "    cv2.imshow(name, expanded_image)\n",
    "\n",
    "def getRandomImage(path):\n",
    "    \"\"\"function loads a random images from a random folder in our test path \"\"\"\n",
    "    folders = list(filter(lambda x: os.path.isdir(os.path.join(path, x)), os.listdir(path)))\n",
    "    random_directory = np.random.randint(0,len(folders))\n",
    "    path_class = folders[random_directory]\n",
    "    print(\"Class - \" + path_class)\n",
    "    file_path = path + path_class\n",
    "    file_names = [f for f in listdir(file_path) if isfile(join(file_path, f))]\n",
    "    random_file_index = np.random.randint(0,len(file_names))\n",
    "    image_name = file_names[random_file_index]\n",
    "    return cv2.imread(file_path+\"/\"+image_name)    \n",
    "\n",
    "for i in range(0,20):\n",
    "    input_im = getRandomImage(\"/root/mlopsproject/UntitledFolder/Testing2/\")\n",
    "    input_original = input_im.copy()\n",
    "    input_original = cv2.resize(input_original, None, fx=0.5, fy=0.5, interpolation = cv2.INTER_LINEAR)\n",
    "    \n",
    "    input_im = cv2.resize(input_im, (224, 224), interpolation = cv2.INTER_LINEAR)\n",
    "    input_im = input_im / 255.\n",
    "    input_im = input_im.reshape(1,224,224,3) \n",
    "    \n",
    "    # Get Prediction\n",
    "    res = np.argmax(modelnew.predict(input_im))\n",
    "    \n",
    "    # Show image with predicted class\n",
    "    draw_test(\"Prediction\", res, input_original) \n",
    "    cv2.waitKey(0)\n",
    "    \n",
    "cv2.destroyAllWindows()"
   ]
  },
  {
   "cell_type": "code",
   "execution_count": null,
   "metadata": {},
   "outputs": [],
   "source": []
  }
 ],
 "metadata": {
  "kernelspec": {
   "display_name": "Python 3",
   "language": "python",
   "name": "python3"
  },
  "language_info": {
   "codemirror_mode": {
    "name": "ipython",
    "version": 3
   },
   "file_extension": ".py",
   "mimetype": "text/x-python",
   "name": "python",
   "nbconvert_exporter": "python",
   "pygments_lexer": "ipython3",
   "version": "3.8.2"
  }
 },
 "nbformat": 4,
 "nbformat_minor": 4
}
